{
 "cells": [
  {
   "cell_type": "code",
   "execution_count": 1,
   "id": "e86e2761-6a71-4e62-8c31-a6241b1c0acf",
   "metadata": {},
   "outputs": [
    {
     "name": "stdout",
     "output_type": "stream",
     "text": [
      "\u001b[31mERROR: pip's dependency resolver does not currently take into account all the packages that are installed. This behaviour is the source of the following dependency conflicts.\n",
      "pathos 0.3.4 requires dill>=0.4.0, but you have dill 0.3.8 which is incompatible.\n",
      "pathos 0.3.4 requires multiprocess>=0.70.18, but you have multiprocess 0.70.16 which is incompatible.\u001b[0m\u001b[31m\n",
      "\u001b[0m"
     ]
    }
   ],
   "source": [
    "# Cell 1: Install required packages (run once)\n",
    "!pip install datasets pandas numpy matplotlib asyncio -q"
   ]
  },
  {
   "cell_type": "code",
   "execution_count": null,
   "id": "5df96eb2-a101-4bc2-96b6-6436f955822d",
   "metadata": {},
   "outputs": [],
   "source": [
    "from huggingface_hub import login\n",
    "\n",
    "# Replace with your Hugging Face token (found at https://huggingface.co/settings/tokens)\n",
    "HF_TOKEN = YOUR_HF_TOKEN_HERE\n",
    "\n",
    "# Log in\n",
    "login(token=HF_TOKEN)"
   ]
  },
  {
   "cell_type": "code",
   "execution_count": null,
   "id": "b4508383-a5c1-42c7-8f77-e59e47ea2942",
   "metadata": {},
   "outputs": [],
   "source": [
    "# Cell 2: Run the AgentRoute complete implementation\n",
    "import subprocess\n",
    "import sys\n",
    "\n",
    "# Save and run the script\n",
    "script_name = \"agentroute_complete_implementation.py\"\n",
    "\n",
    "# Run the script\n",
    "result = subprocess.run([sys.executable, script_name], capture_output=True, text=True)\n",
    "\n",
    "# Print output\n",
    "print(result.stdout)\n",
    "if result.stderr:\n",
    "    print(\"Errors:\", result.stderr)\n",
    "\n",
    "# Alternative: If you want to run it directly in the notebook\n",
    "# exec(open('agentroute_complete_implementation.py').read())"
   ]
  },
  {
   "cell_type": "code",
   "execution_count": 3,
   "id": "f116555d-6962-4fb2-9244-e6b08c7ebf03",
   "metadata": {},
   "outputs": [
    {
     "name": "stdout",
     "output_type": "stream",
     "text": [
      "Running KodCode Domain Implementation...\n",
      "================================================================================\n",
      "================================================================================\n",
      "AgentRoute Enhanced Implementation - KodCode Domain\n",
      "Model: mistralai/Mistral-7B-Instruct-v0.3\n",
      "Dataset: KodCode/KodCode-V1\n",
      "Features: Volume tracking, throughput analysis, stress testing\n",
      "================================================================================\n",
      "\n",
      "DEBUG INFO:\n",
      "  Number of messages loaded: 0\n",
      "  Number of agents: 50\n",
      "  BC total tokens: 0\n",
      "  AR total tokens: 0\n",
      "  WARNING: bc_total_tokens is zero!\n",
      "  -> No messages were loaded from dataset\n",
      "\n",
      "Errors: 2025-08-04 18:31:21,472 - __main__ - INFO - \n",
      "======================================================================\n",
      "2025-08-04 18:31:21,472 - __main__ - INFO - Running enhanced experiment: 500 queries, 50 agents\n",
      "2025-08-04 18:31:21,472 - __main__ - INFO - ======================================================================\n",
      "2025-08-04 18:31:21,472 - __main__ - INFO - Created 49 coding agents\n",
      "2025-08-04 18:31:21,472 - __main__ - INFO - Loading KodCode/KodCode-V1 dataset (limit: 500)\n",
      "2025-08-04 18:33:46,729 - __main__ - INFO - Successfully loaded 0 coding queries\n",
      "2025-08-04 18:33:46,729 - __main__ - INFO - \n",
      "Testing AgentRoute...\n",
      "Traceback (most recent call last):\n",
      "  File \"/home/ec2-user/SageMaker/Agentroute/agentroute_kodcode_implementation.py\", line 984, in <module>\n",
      "    asyncio.run(main())\n",
      "  File \"/home/ec2-user/anaconda3/envs/python3/lib/python3.10/asyncio/runners.py\", line 44, in run\n",
      "    return loop.run_until_complete(main)\n",
      "  File \"/home/ec2-user/anaconda3/envs/python3/lib/python3.10/asyncio/base_events.py\", line 649, in run_until_complete\n",
      "    return future.result()\n",
      "  File \"/home/ec2-user/SageMaker/Agentroute/agentroute_kodcode_implementation.py\", line 947, in main\n",
      "    results = await run_enhanced_experiment(num_queries, num_agents=50)\n",
      "  File \"/home/ec2-user/SageMaker/Agentroute/agentroute_kodcode_implementation.py\", line 767, in run_enhanced_experiment\n",
      "    'token_reduction_pct': (1 - ar_metrics['routing']['total_tokens'] / bc_total_tokens) * 100\n",
      "ZeroDivisionError: division by zero\n",
      "\n"
     ]
    }
   ],
   "source": [
    "\n",
    "# Cell 2: Run KodCode implementation with Mistral-7B\n",
    "import subprocess\n",
    "import sys\n",
    "\n",
    "# Save and run the KodCode script\n",
    "kodcode_script = \"agentroute_kodcode_implementation.py\"\n",
    "\n",
    "print(\"Running KodCode Domain Implementation...\")\n",
    "print(\"=\"*80)\n",
    "result = subprocess.run([sys.executable, kodcode_script], capture_output=True, text=True)\n",
    "print(result.stdout)\n",
    "if result.stderr:\n",
    "    print(\"Errors:\", result.stderr)"
   ]
  },
  {
   "cell_type": "code",
   "execution_count": 3,
   "id": "9f8a03c9-c8e3-44f7-84e4-82c8bd746412",
   "metadata": {},
   "outputs": [],
   "source": [
    "!pip install -U datasets -q"
   ]
  },
  {
   "cell_type": "code",
   "execution_count": null,
   "id": "ab7a4bd3-a1d4-4642-bf6d-48e6c5c0050e",
   "metadata": {},
   "outputs": [],
   "source": [
    "import subprocess\n",
    "import sys\n",
    "\n",
    "# Cell 3: Run Alpaca implementation with Flan-T5\n",
    "alpaca_script = \"agentroute_alpaca_implementation.py\"\n",
    "\n",
    "print(\"\\n\\nRunning Alpaca Domain Implementation...\")\n",
    "print(\"=\"*80)\n",
    "result = subprocess.run([sys.executable, alpaca_script], capture_output=True, text=True)\n",
    "print(result.stdout)\n",
    "if result.stderr:\n",
    "    print(\"Errors:\", result.stderr)\n",
    "\"\"\"\n",
    "# Cell 4: Alternative - Run directly in notebook (if subprocess fails)\n",
    "# For KodCode\n",
    "print(\"Running KodCode implementation directly...\")\n",
    "exec(open('agentroute_kodcode_implementation.py').read())\n",
    "\n",
    "# Cell 5: For Alpaca (run in separate cell)\n",
    "print(\"Running Alpaca implementation directly...\")\n",
    "exec(open('agentroute_alpaca_implementation.py').read())\n",
    "\"\"\""
   ]
  },
  {
   "cell_type": "code",
   "execution_count": 4,
   "id": "8198fa16-8766-4a5f-b2fe-0ac84f2a4cd7",
   "metadata": {},
   "outputs": [],
   "source": [
    "!pip install torch transformers sentencepiece accelerate -q"
   ]
  },
  {
   "cell_type": "code",
   "execution_count": 5,
   "id": "8ba6ef2c-e02c-49fd-b74f-f8547c5bce74",
   "metadata": {},
   "outputs": [],
   "source": [
    "!pip install -U numexpr -q"
   ]
  },
  {
   "cell_type": "code",
   "execution_count": null,
   "id": "5b121f46-5324-4896-a09e-8fe50eec7db8",
   "metadata": {},
   "outputs": [],
   "source": [
    "!python agentroute_llm_comparison.py"
   ]
  },
  {
   "cell_type": "code",
   "execution_count": null,
   "id": "3da44673-0c9e-4d85-bf35-acd99ad0c7b2",
   "metadata": {},
   "outputs": [],
   "source": [
    "!python baseline_comparison_script.py"
   ]
  },
  {
   "cell_type": "code",
   "execution_count": null,
   "id": "5d4b0dfa-f3bf-46dc-a002-0bf047f6e8c0",
   "metadata": {},
   "outputs": [
    {
     "name": "stdout",
     "output_type": "stream",
     "text": [
      "2025-08-04 11:20:12,383 - INFO - ================================================================================\n",
      "2025-08-04 11:20:12,384 - INFO - AgentRoute Ablation Studies\n",
      "2025-08-04 11:20:12,384 - INFO - ================================================================================\n",
      "2025-08-04 11:20:12,384 - INFO - \n",
      "Testing configuration: FULL-SYSTEM\n",
      "2025-08-04 11:20:12,384 - INFO -   Run 1/3\n",
      "2025-08-04 11:20:12,384 - INFO - Running ablation: FULL-SYSTEM\n",
      "2025-08-04 11:20:12,384 - INFO - Loading 1000 queries\n",
      "2025-08-04 11:20:30,655 - INFO -   Processed 200/1000 queries\n",
      "2025-08-04 11:20:30,656 - INFO -   Processed 400/1000 queries\n",
      "2025-08-04 11:20:30,657 - INFO -   Processed 600/1000 queries\n",
      "2025-08-04 11:20:30,659 - INFO -   Processed 800/1000 queries\n",
      "2025-08-04 11:20:30,664 - INFO -   Processed 1000/1000 queries\n",
      "2025-08-04 11:20:30,664 - INFO -   Run 2/3\n",
      "2025-08-04 11:20:30,664 - INFO - Running ablation: FULL-SYSTEM\n",
      "2025-08-04 11:20:30,664 - INFO - Loading 1000 queries\n",
      "2025-08-04 11:20:46,611 - INFO -   Processed 200/1000 queries\n",
      "2025-08-04 11:20:46,612 - INFO -   Processed 400/1000 queries\n",
      "2025-08-04 11:20:46,613 - INFO -   Processed 600/1000 queries\n",
      "2025-08-04 11:20:46,614 - INFO -   Processed 800/1000 queries\n",
      "2025-08-04 11:20:46,619 - INFO -   Processed 1000/1000 queries\n",
      "2025-08-04 11:20:46,620 - INFO -   Run 3/3\n",
      "2025-08-04 11:20:46,620 - INFO - Running ablation: FULL-SYSTEM\n",
      "2025-08-04 11:20:46,620 - INFO - Loading 1000 queries\n",
      "2025-08-04 11:21:02,762 - INFO -   Processed 200/1000 queries\n",
      "2025-08-04 11:21:02,763 - INFO -   Processed 400/1000 queries\n",
      "2025-08-04 11:21:02,764 - INFO -   Processed 600/1000 queries\n",
      "2025-08-04 11:21:02,766 - INFO -   Processed 800/1000 queries\n",
      "2025-08-04 11:21:02,770 - INFO -   Processed 1000/1000 queries\n",
      "2025-08-04 11:21:02,771 - INFO - \n",
      "Testing configuration: WITHOUT-location\n",
      "2025-08-04 11:21:02,771 - INFO -   Run 1/3\n",
      "2025-08-04 11:21:02,771 - INFO - Running ablation: WITHOUT-location\n",
      "2025-08-04 11:21:02,771 - INFO - Loading 1000 queries\n",
      "2025-08-04 11:21:19,039 - INFO -   Processed 200/1000 queries\n",
      "2025-08-04 11:21:19,040 - INFO -   Processed 400/1000 queries\n",
      "2025-08-04 11:21:19,041 - INFO -   Processed 600/1000 queries\n",
      "2025-08-04 11:21:19,042 - INFO -   Processed 800/1000 queries\n",
      "2025-08-04 11:21:19,044 - INFO -   Processed 1000/1000 queries\n",
      "2025-08-04 11:21:19,045 - INFO -   Run 2/3\n",
      "2025-08-04 11:21:19,045 - INFO - Running ablation: WITHOUT-location\n",
      "2025-08-04 11:21:19,045 - INFO - Loading 1000 queries\n",
      "2025-08-04 11:21:35,656 - INFO -   Processed 200/1000 queries\n",
      "2025-08-04 11:21:35,657 - INFO -   Processed 400/1000 queries\n",
      "2025-08-04 11:21:35,658 - INFO -   Processed 600/1000 queries\n",
      "2025-08-04 11:21:35,660 - INFO -   Processed 800/1000 queries\n",
      "2025-08-04 11:21:35,662 - INFO -   Processed 1000/1000 queries\n",
      "2025-08-04 11:21:35,662 - INFO -   Run 3/3\n",
      "2025-08-04 11:21:35,663 - INFO - Running ablation: WITHOUT-location\n",
      "2025-08-04 11:21:35,663 - INFO - Loading 1000 queries\n",
      "2025-08-04 11:21:52,097 - INFO -   Processed 200/1000 queries\n",
      "2025-08-04 11:21:52,098 - INFO -   Processed 400/1000 queries\n",
      "2025-08-04 11:21:52,099 - INFO -   Processed 600/1000 queries\n",
      "2025-08-04 11:21:52,100 - INFO -   Processed 800/1000 queries\n",
      "2025-08-04 11:21:52,103 - INFO -   Processed 1000/1000 queries\n",
      "2025-08-04 11:21:52,104 - INFO - \n",
      "Testing configuration: WITHOUT-cache\n",
      "2025-08-04 11:21:52,104 - INFO -   Run 1/3\n",
      "2025-08-04 11:21:52,104 - INFO - Running ablation: WITHOUT-cache\n",
      "2025-08-04 11:21:52,104 - INFO - Loading 1000 queries\n",
      "2025-08-04 11:22:09,858 - INFO -   Processed 200/1000 queries\n",
      "2025-08-04 11:22:11,501 - INFO -   Processed 400/1000 queries\n"
     ]
    }
   ],
   "source": [
    "!python ablation_studies_script.py"
   ]
  },
  {
   "cell_type": "code",
   "execution_count": 1,
   "id": "9f691363-d978-4d2c-9c5a-a758d8c4fb30",
   "metadata": {},
   "outputs": [
    {
     "name": "stdout",
     "output_type": "stream",
     "text": [
      "================================================================================\n",
      "AgentRoute Statistical Analysis\n",
      "Multiple runs with different random seeds\n",
      "================================================================================\n",
      "2025-08-04 18:11:46,491 - INFO - Running 10 experiments with different seeds\n",
      "2025-08-04 18:11:46,491 - INFO - \n",
      "Run 1/10 (seed=42)\n",
      "2025-08-04 18:13:12,801 - INFO -   Token reduction: 98.0%\n",
      "2025-08-04 18:13:12,801 - INFO - \n",
      "Run 2/10 (seed=43)\n",
      "2025-08-04 18:14:37,003 - INFO -   Token reduction: 98.0%\n",
      "2025-08-04 18:14:37,003 - INFO - \n",
      "Run 3/10 (seed=44)\n",
      "2025-08-04 18:16:01,149 - INFO -   Token reduction: 98.0%\n",
      "2025-08-04 18:16:01,149 - INFO - \n",
      "Run 4/10 (seed=45)\n",
      "2025-08-04 18:17:26,486 - INFO -   Token reduction: 98.0%\n",
      "2025-08-04 18:17:26,486 - INFO - \n",
      "Run 5/10 (seed=46)\n",
      "2025-08-04 18:18:50,367 - INFO -   Token reduction: 98.0%\n",
      "2025-08-04 18:18:50,367 - INFO - \n",
      "Run 6/10 (seed=47)\n",
      "2025-08-04 18:20:14,553 - INFO -   Token reduction: 98.0%\n",
      "2025-08-04 18:20:14,554 - INFO - \n",
      "Run 7/10 (seed=48)\n",
      "2025-08-04 18:21:38,956 - INFO -   Token reduction: 98.0%\n",
      "2025-08-04 18:21:38,956 - INFO - \n",
      "Run 8/10 (seed=49)\n",
      "2025-08-04 18:23:03,627 - INFO -   Token reduction: 98.0%\n",
      "2025-08-04 18:23:03,628 - INFO - \n",
      "Run 9/10 (seed=50)\n",
      "2025-08-04 18:24:29,163 - INFO -   Token reduction: 98.0%\n",
      "2025-08-04 18:24:29,163 - INFO - \n",
      "Run 10/10 (seed=51)\n",
      "2025-08-04 18:25:53,174 - INFO -   Token reduction: 98.0%\n",
      "\n",
      "================================================================================\n",
      "STATISTICAL ANALYSIS RESULTS\n",
      "================================================================================\n",
      "\n",
      "1. DESCRIPTIVE STATISTICS\n",
      "--------------------------------------------------\n",
      "          Metric      AgentRoute           Broadcast Reduction\n",
      "    Total Tokens 259,968 ± 1,713 12,738,437 ± 83,961     98.0%\n",
      "Avg Latency (ms)     0.12 ± 0.01        49.61 ± 0.02     99.8%\n",
      "Throughput (q/s)  8525.8 ± 378.6          20.2 ± 0.0  42201.6%\n",
      "\n",
      "2. NORMALITY TESTS (Shapiro-Wilk)\n",
      "--------------------------------------------------\n",
      "\n",
      "Tokens:\n",
      "  AgentRoute: W=0.9359, p=0.5085 (normal)\n",
      "  Broadcast:  W=0.9359, p=0.5085 (normal)\n",
      "\n",
      "Latency:\n",
      "  AgentRoute: W=0.9448, p=0.6074 (normal)\n",
      "  Broadcast:  W=0.8897, p=0.1681 (normal)\n",
      "\n",
      "Throughput:\n",
      "  AgentRoute: W=0.9412, p=0.5660 (normal)\n",
      "  Broadcast:  W=0.8928, p=0.1822 (normal)\n",
      "\n",
      "3. HYPOTHESIS TESTS\n",
      "--------------------------------------------------\n",
      "\n",
      "Tokens:\n",
      "  Test: Independent t-test\n",
      "  p-value: 0.000000\n",
      "  Effect size: 210.140 (large)\n",
      "  Significant: YES (p < 0.001)\n",
      "\n",
      "Latency:\n",
      "  Test: Independent t-test\n",
      "  p-value: 0.000000\n",
      "  Effect size: 4155.939 (large)\n",
      "  Significant: YES (p < 0.001)\n",
      "\n",
      "Throughput:\n",
      "  Test: Independent t-test\n",
      "  p-value: 0.000000\n",
      "  Effect size: 31.769 (large)\n",
      "  Significant: YES (p < 0.001)\n",
      "\n",
      "4. CONFIDENCE INTERVALS (95%)\n",
      "--------------------------------------------------\n",
      "/home/ec2-user/anaconda3/envs/python3/lib/python3.10/site-packages/scipy/stats/_distn_infrastructure.py:2304: RuntimeWarning: invalid value encountered in multiply\n",
      "  lower_bound = _a * scale + loc\n",
      "/home/ec2-user/anaconda3/envs/python3/lib/python3.10/site-packages/scipy/stats/_distn_infrastructure.py:2305: RuntimeWarning: invalid value encountered in multiply\n",
      "  upper_bound = _b * scale + loc\n",
      "\n",
      "Token Reduction %:\n",
      "  Mean: 98.0%\n",
      "  95% CI: [nan%, nan%]\n",
      "\n",
      "Latency Reduction %:\n",
      "  Mean: 99.8%\n",
      "  95% CI: [99.8%, 99.8%]\n",
      "/home/ec2-user/SageMaker/Agentroute/statistical_analysis_script.py:426: MatplotlibDeprecationWarning: The 'labels' parameter of boxplot() has been renamed 'tick_labels' since Matplotlib 3.9; support for the old name will be dropped in 3.11.\n",
      "  bp = ax1.boxplot(box_data, labels=['AgentRoute', 'Broadcast'], patch_artist=True)\n",
      "Figure(1600x1200)\n",
      "\n",
      "================================================================================\n",
      "CONCLUSIONS\n",
      "================================================================================\n",
      "\n",
      "1. Results are statistically significant (p < 0.001)\n",
      "2. Large effect sizes demonstrate practical significance\n",
      "3. Consistent performance across different random seeds\n",
      "4. 98% token reduction is stable and reproducible\n",
      "5. Results are NOT due to chance\n"
     ]
    }
   ],
   "source": [
    "!python statistical_analysis_script.py"
   ]
  },
  {
   "cell_type": "code",
   "execution_count": null,
   "id": "fe44138c-bfb2-4687-9a62-43ef09c06351",
   "metadata": {},
   "outputs": [
    {
     "name": "stdout",
     "output_type": "stream",
     "text": [
      "/home/ec2-user/anaconda3/envs/python3/lib/python3.10/site-packages/pandas/core/computation/expressions.py:21: UserWarning: Pandas requires version '2.8.4' or newer of 'numexpr' (version '2.7.3' currently installed).\n",
      "  from pandas.core.computation.check import NUMEXPR_INSTALLED\n"
     ]
    }
   ],
   "source": [
    "!python agentroute_failure_analysis_fixed.py"
   ]
  },
  {
   "cell_type": "code",
   "execution_count": null,
   "id": "c8242c36-3c40-4a5a-82ad-80186ce82e66",
   "metadata": {},
   "outputs": [],
   "source": [
    "!python agentroute_conversation_analysis_fixed.py"
   ]
  },
  {
   "cell_type": "code",
   "execution_count": null,
   "id": "a49e8805-b042-4bcb-9237-f885b4127607",
   "metadata": {},
   "outputs": [],
   "source": []
  }
 ],
 "metadata": {
  "kernelspec": {
   "display_name": "conda_python3",
   "language": "python",
   "name": "conda_python3"
  },
  "language_info": {
   "codemirror_mode": {
    "name": "ipython",
    "version": 3
   },
   "file_extension": ".py",
   "mimetype": "text/x-python",
   "name": "python",
   "nbconvert_exporter": "python",
   "pygments_lexer": "ipython3",
   "version": "3.10.18"
  }
 },
 "nbformat": 4,
 "nbformat_minor": 5
}
