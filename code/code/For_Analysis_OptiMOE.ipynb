{
  "nbformat": 4,
  "nbformat_minor": 0,
  "metadata": {
    "colab": {
      "provenance": [],
      "gpuType": "T4"
    },
    "kernelspec": {
      "name": "python3",
      "display_name": "Python 3"
    },
    "language_info": {
      "name": "python"
    },
    "accelerator": "GPU"
  },
  "cells": [
    {
      "cell_type": "code",
      "execution_count": null,
      "metadata": {
        "id": "RYpTn0EdqOVZ"
      },
      "outputs": [],
      "source": [
        "!python figure_generator.py"
      ]
    },
    {
      "cell_type": "code",
      "source": [
        "!python table_generator.py"
      ],
      "metadata": {
        "id": "SFk44_vQA5wr"
      },
      "execution_count": null,
      "outputs": []
    },
    {
      "cell_type": "code",
      "source": [],
      "metadata": {
        "id": "esAv_8qZB0i7"
      },
      "execution_count": null,
      "outputs": []
    }
  ]
}